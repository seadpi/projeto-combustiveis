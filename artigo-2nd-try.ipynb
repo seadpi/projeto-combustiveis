{
 "cells": [
  {
   "cell_type": "code",
   "execution_count": 33,
   "id": "42e15bd9",
   "metadata": {},
   "outputs": [],
   "source": [
    "import pandas as pd\n",
    "import matplotlib.pyplot as plt\n",
    "import seaborn as sns\n",
    "import numpy as np\n",
    "from sklearn.model_selection import train_test_split\n",
    "from sklearn.linear_model import LinearRegression"
   ]
  },
  {
   "cell_type": "code",
   "execution_count": 70,
   "id": "55584c90",
   "metadata": {},
   "outputs": [],
   "source": [
    "data = 'base_nova.xlsx'\n",
    "df = pd.read_excel(data)"
   ]
  },
  {
   "cell_type": "code",
   "execution_count": 71,
   "id": "39188d56",
   "metadata": {},
   "outputs": [
    {
     "data": {
      "text/html": [
       "<div>\n",
       "<style scoped>\n",
       "    .dataframe tbody tr th:only-of-type {\n",
       "        vertical-align: middle;\n",
       "    }\n",
       "\n",
       "    .dataframe tbody tr th {\n",
       "        vertical-align: top;\n",
       "    }\n",
       "\n",
       "    .dataframe thead th {\n",
       "        text-align: right;\n",
       "    }\n",
       "</style>\n",
       "<table border=\"1\" class=\"dataframe\">\n",
       "  <thead>\n",
       "    <tr style=\"text-align: right;\">\n",
       "      <th></th>\n",
       "      <th>ID</th>\n",
       "      <th>data_transacao</th>\n",
       "      <th>ano_veiculo</th>\n",
       "      <th>porte_veiculo</th>\n",
       "      <th>tipo_combustivel</th>\n",
       "      <th>litros</th>\n",
       "      <th>vl_por_litro</th>\n",
       "      <th>km_rodados</th>\n",
       "      <th>km_por_litro</th>\n",
       "      <th>vl_emissao</th>\n",
       "    </tr>\n",
       "  </thead>\n",
       "  <tbody>\n",
       "    <tr>\n",
       "      <th>0</th>\n",
       "      <td>1</td>\n",
       "      <td>2022-01-01</td>\n",
       "      <td>2020</td>\n",
       "      <td>PEQUENO</td>\n",
       "      <td>GASOLINA COMUM</td>\n",
       "      <td>15.55</td>\n",
       "      <td>7.567</td>\n",
       "      <td>150</td>\n",
       "      <td>9.65</td>\n",
       "      <td>117.68</td>\n",
       "    </tr>\n",
       "    <tr>\n",
       "      <th>1</th>\n",
       "      <td>2</td>\n",
       "      <td>2022-01-01</td>\n",
       "      <td>2020</td>\n",
       "      <td>PEQUENO</td>\n",
       "      <td>GASOLINA COMUM</td>\n",
       "      <td>50.37</td>\n",
       "      <td>7.569</td>\n",
       "      <td>500</td>\n",
       "      <td>9.93</td>\n",
       "      <td>381.26</td>\n",
       "    </tr>\n",
       "    <tr>\n",
       "      <th>2</th>\n",
       "      <td>3</td>\n",
       "      <td>2022-01-01</td>\n",
       "      <td>2005</td>\n",
       "      <td>PEQUENO</td>\n",
       "      <td>GASOLINA COMUM</td>\n",
       "      <td>10.08</td>\n",
       "      <td>7.569</td>\n",
       "      <td>300</td>\n",
       "      <td>29.76</td>\n",
       "      <td>76.30</td>\n",
       "    </tr>\n",
       "    <tr>\n",
       "      <th>3</th>\n",
       "      <td>4</td>\n",
       "      <td>2022-01-01</td>\n",
       "      <td>2015</td>\n",
       "      <td>PEQUENO</td>\n",
       "      <td>GASOLINA COMUM</td>\n",
       "      <td>10.07</td>\n",
       "      <td>7.571</td>\n",
       "      <td>300</td>\n",
       "      <td>29.79</td>\n",
       "      <td>76.25</td>\n",
       "    </tr>\n",
       "    <tr>\n",
       "      <th>4</th>\n",
       "      <td>5</td>\n",
       "      <td>2022-01-01</td>\n",
       "      <td>2014</td>\n",
       "      <td>PESADO</td>\n",
       "      <td>DIESEL S10</td>\n",
       "      <td>70.00</td>\n",
       "      <td>5.714</td>\n",
       "      <td>500</td>\n",
       "      <td>7.14</td>\n",
       "      <td>400.00</td>\n",
       "    </tr>\n",
       "  </tbody>\n",
       "</table>\n",
       "</div>"
      ],
      "text/plain": [
       "   ID data_transacao  ano_veiculo porte_veiculo tipo_combustivel  litros  \\\n",
       "0   1     2022-01-01         2020       PEQUENO   GASOLINA COMUM   15.55   \n",
       "1   2     2022-01-01         2020       PEQUENO   GASOLINA COMUM   50.37   \n",
       "2   3     2022-01-01         2005       PEQUENO   GASOLINA COMUM   10.08   \n",
       "3   4     2022-01-01         2015       PEQUENO   GASOLINA COMUM   10.07   \n",
       "4   5     2022-01-01         2014        PESADO       DIESEL S10   70.00   \n",
       "\n",
       "   vl_por_litro  km_rodados  km_por_litro  vl_emissao  \n",
       "0         7.567         150          9.65      117.68  \n",
       "1         7.569         500          9.93      381.26  \n",
       "2         7.569         300         29.76       76.30  \n",
       "3         7.571         300         29.79       76.25  \n",
       "4         5.714         500          7.14      400.00  "
      ]
     },
     "execution_count": 71,
     "metadata": {},
     "output_type": "execute_result"
    }
   ],
   "source": [
    "df.head()"
   ]
  },
  {
   "cell_type": "markdown",
   "id": "68c37f4c",
   "metadata": {},
   "source": [
    "# ETL"
   ]
  },
  {
   "cell_type": "code",
   "execution_count": 72,
   "id": "3a73ab68",
   "metadata": {},
   "outputs": [
    {
     "data": {
      "text/plain": [
       "ID                  0\n",
       "data_transacao      0\n",
       "ano_veiculo         0\n",
       "porte_veiculo       0\n",
       "tipo_combustivel    0\n",
       "litros              0\n",
       "vl_por_litro        0\n",
       "km_rodados          0\n",
       "km_por_litro        0\n",
       "vl_emissao          0\n",
       "dtype: int64"
      ]
     },
     "execution_count": 72,
     "metadata": {},
     "output_type": "execute_result"
    }
   ],
   "source": [
    "# Verifying if we have null values\n",
    "\n",
    "df.isnull().sum()"
   ]
  },
  {
   "cell_type": "code",
   "execution_count": 73,
   "id": "fb83e0dd",
   "metadata": {},
   "outputs": [
    {
     "name": "stdout",
     "output_type": "stream",
     "text": [
      "  porte_veiculo  Code\n",
      "0         MEDIO     1\n",
      "1       PEQUENO     2\n",
      "2        PESADO     3\n"
     ]
    }
   ],
   "source": [
    "# Converting categorical data\n",
    "# We have 'porte_veiculo' and 'tipo_combustivel' as categorical data\n",
    "\n",
    "df['porte_veiculo'] = df['porte_veiculo'].astype('category')\n",
    "\n",
    "porte_veiculo = df['porte_veiculo'].cat.categories\n",
    "\n",
    "df['porte_veiculo'] = df['porte_veiculo'].cat.codes + 1\n",
    "\n",
    "mapping = pd.DataFrame({'porte_veiculo': porte_veiculo, 'Code': range(1, len(porte_veiculo) + 1)})\n",
    "print(mapping)"
   ]
  },
  {
   "cell_type": "code",
   "execution_count": 74,
   "id": "b62753bd",
   "metadata": {},
   "outputs": [
    {
     "name": "stdout",
     "output_type": "stream",
     "text": [
      "     tipo_combustivel  Code\n",
      "0              DIESEL     1\n",
      "1          DIESEL S10     2\n",
      "2    ETANOL HIDRATADO     3\n",
      "3  GASOLINA ADITIVADA     4\n",
      "4      GASOLINA COMUM     5\n"
     ]
    }
   ],
   "source": [
    "df['tipo_combustivel'] = df['tipo_combustivel'].astype('category')\n",
    "\n",
    "tipo_combustivel = df['tipo_combustivel'].cat.categories\n",
    "\n",
    "df['tipo_combustivel'] = df['tipo_combustivel'].cat.codes + 1\n",
    "\n",
    "mapping = pd.DataFrame({'tipo_combustivel': tipo_combustivel, 'Code': range(1, len(tipo_combustivel) + 1)})\n",
    "print(mapping)"
   ]
  },
  {
   "cell_type": "markdown",
   "id": "59b03721",
   "metadata": {},
   "source": [
    "# EDA"
   ]
  },
  {
   "cell_type": "code",
   "execution_count": 75,
   "id": "0d165332",
   "metadata": {},
   "outputs": [
    {
     "data": {
      "text/plain": [
       "ID                  0.079001\n",
       "data_transacao     -0.031484\n",
       "ano_veiculo         0.150063\n",
       "porte_veiculo       0.171351\n",
       "tipo_combustivel   -0.467329\n",
       "litros              0.959633\n",
       "vl_por_litro        0.266801\n",
       "km_rodados          0.653069\n",
       "km_por_litro       -0.257607\n",
       "vl_emissao          1.000000\n",
       "Name: vl_emissao, dtype: float64"
      ]
     },
     "execution_count": 75,
     "metadata": {},
     "output_type": "execute_result"
    }
   ],
   "source": [
    "# Looking for the correlation between vl_emissao and other variables\n",
    "\n",
    "df.corr()['vl_emissao']"
   ]
  },
  {
   "cell_type": "code",
   "execution_count": 76,
   "id": "53b6a9d5",
   "metadata": {},
   "outputs": [
    {
     "data": {
      "text/html": [
       "<div>\n",
       "<style scoped>\n",
       "    .dataframe tbody tr th:only-of-type {\n",
       "        vertical-align: middle;\n",
       "    }\n",
       "\n",
       "    .dataframe tbody tr th {\n",
       "        vertical-align: top;\n",
       "    }\n",
       "\n",
       "    .dataframe thead th {\n",
       "        text-align: right;\n",
       "    }\n",
       "</style>\n",
       "<table border=\"1\" class=\"dataframe\">\n",
       "  <thead>\n",
       "    <tr style=\"text-align: right;\">\n",
       "      <th></th>\n",
       "      <th>porte_veiculo</th>\n",
       "      <th>tipo_combustivel</th>\n",
       "      <th>litros</th>\n",
       "      <th>km_rodados</th>\n",
       "      <th>vl_emissao</th>\n",
       "    </tr>\n",
       "  </thead>\n",
       "  <tbody>\n",
       "    <tr>\n",
       "      <th>0</th>\n",
       "      <td>2</td>\n",
       "      <td>5</td>\n",
       "      <td>15.55</td>\n",
       "      <td>150</td>\n",
       "      <td>117.68</td>\n",
       "    </tr>\n",
       "    <tr>\n",
       "      <th>1</th>\n",
       "      <td>2</td>\n",
       "      <td>5</td>\n",
       "      <td>50.37</td>\n",
       "      <td>500</td>\n",
       "      <td>381.26</td>\n",
       "    </tr>\n",
       "    <tr>\n",
       "      <th>2</th>\n",
       "      <td>2</td>\n",
       "      <td>5</td>\n",
       "      <td>10.08</td>\n",
       "      <td>300</td>\n",
       "      <td>76.30</td>\n",
       "    </tr>\n",
       "    <tr>\n",
       "      <th>3</th>\n",
       "      <td>2</td>\n",
       "      <td>5</td>\n",
       "      <td>10.07</td>\n",
       "      <td>300</td>\n",
       "      <td>76.25</td>\n",
       "    </tr>\n",
       "    <tr>\n",
       "      <th>4</th>\n",
       "      <td>3</td>\n",
       "      <td>2</td>\n",
       "      <td>70.00</td>\n",
       "      <td>500</td>\n",
       "      <td>400.00</td>\n",
       "    </tr>\n",
       "    <tr>\n",
       "      <th>...</th>\n",
       "      <td>...</td>\n",
       "      <td>...</td>\n",
       "      <td>...</td>\n",
       "      <td>...</td>\n",
       "      <td>...</td>\n",
       "    </tr>\n",
       "    <tr>\n",
       "      <th>292603</th>\n",
       "      <td>2</td>\n",
       "      <td>5</td>\n",
       "      <td>60.00</td>\n",
       "      <td>480</td>\n",
       "      <td>380.40</td>\n",
       "    </tr>\n",
       "    <tr>\n",
       "      <th>292604</th>\n",
       "      <td>3</td>\n",
       "      <td>2</td>\n",
       "      <td>60.00</td>\n",
       "      <td>270</td>\n",
       "      <td>371.40</td>\n",
       "    </tr>\n",
       "    <tr>\n",
       "      <th>292605</th>\n",
       "      <td>3</td>\n",
       "      <td>2</td>\n",
       "      <td>45.00</td>\n",
       "      <td>234</td>\n",
       "      <td>272.25</td>\n",
       "    </tr>\n",
       "    <tr>\n",
       "      <th>292606</th>\n",
       "      <td>2</td>\n",
       "      <td>5</td>\n",
       "      <td>49.27</td>\n",
       "      <td>384</td>\n",
       "      <td>300.05</td>\n",
       "    </tr>\n",
       "    <tr>\n",
       "      <th>292607</th>\n",
       "      <td>2</td>\n",
       "      <td>5</td>\n",
       "      <td>34.62</td>\n",
       "      <td>290</td>\n",
       "      <td>207.35</td>\n",
       "    </tr>\n",
       "  </tbody>\n",
       "</table>\n",
       "<p>292608 rows × 5 columns</p>\n",
       "</div>"
      ],
      "text/plain": [
       "        porte_veiculo  tipo_combustivel  litros  km_rodados  vl_emissao\n",
       "0                   2                 5   15.55         150      117.68\n",
       "1                   2                 5   50.37         500      381.26\n",
       "2                   2                 5   10.08         300       76.30\n",
       "3                   2                 5   10.07         300       76.25\n",
       "4                   3                 2   70.00         500      400.00\n",
       "...               ...               ...     ...         ...         ...\n",
       "292603              2                 5   60.00         480      380.40\n",
       "292604              3                 2   60.00         270      371.40\n",
       "292605              3                 2   45.00         234      272.25\n",
       "292606              2                 5   49.27         384      300.05\n",
       "292607              2                 5   34.62         290      207.35\n",
       "\n",
       "[292608 rows x 5 columns]"
      ]
     },
     "execution_count": 76,
     "metadata": {},
     "output_type": "execute_result"
    }
   ],
   "source": [
    "vl_emissao = df['vl_emissao']\n",
    "\n",
    "df = df.drop(['vl_emissao', 'data_transacao', 'ano_veiculo', 'vl_por_litro', 'km_por_litro', 'ID'], axis=1)\n",
    "df['vl_emissao'] = vl_emissao\n",
    "df"
   ]
  },
  {
   "cell_type": "code",
   "execution_count": 41,
   "id": "55cc80e7",
   "metadata": {},
   "outputs": [
    {
     "name": "stderr",
     "output_type": "stream",
     "text": [
      "C:\\Users\\joaoc\\anaconda3\\Lib\\site-packages\\seaborn\\axisgrid.py:118: UserWarning: The figure layout has changed to tight\n",
      "  self._figure.tight_layout(*args, **kwargs)\n"
     ]
    },
    {
     "data": {
      "image/png": "[encoded data removed]",
      "text/plain": [
       "<Figure size 500x500 with 1 Axes>"
      ]
     },
     "metadata": {},
     "output_type": "display_data"
    }
   ],
   "source": [
    "sns.lmplot(x='km_rodados', y='vl_emissao', data=df, line_kws={'color': 'red'}, ci=95)\n",
    "plt.xlabel('Km Rodados')\n",
    "plt.ylabel('Valor Emissão')\n",
    "plt.show()"
   ]
  },
  {
   "cell_type": "code",
   "execution_count": 45,
   "id": "1c4a23ce",
   "metadata": {},
   "outputs": [
    {
     "name": "stderr",
     "output_type": "stream",
     "text": [
      "C:\\Users\\joaoc\\anaconda3\\Lib\\site-packages\\seaborn\\axisgrid.py:118: UserWarning: The figure layout has changed to tight\n",
      "  self._figure.tight_layout(*args, **kwargs)\n"
     ]
    },
    {
     "data": {
      "image/png": "[encoded data removed]",
      "text/plain": [
       "<Figure size 500x500 with 1 Axes>"
      ]
     },
     "metadata": {},
     "output_type": "display_data"
    }
   ],
   "source": [
    "sns.lmplot(x='litros', y='vl_emissao', data=df, line_kws={'color': 'red'}, ci=95)\n",
    "plt.xlabel('Litros')\n",
    "plt.ylabel('Valor Emissão')\n",
    "plt.show()"
   ]
  },
  {
   "cell_type": "markdown",
   "id": "5a4181c3",
   "metadata": {},
   "source": [
    "# Modeling"
   ]
  },
  {
   "cell_type": "code",
   "execution_count": 77,
   "id": "3177d8b0",
   "metadata": {},
   "outputs": [
    {
     "data": {
      "text/plain": [
       "(292608, 5)"
      ]
     },
     "execution_count": 77,
     "metadata": {},
     "output_type": "execute_result"
    }
   ],
   "source": [
    "df_np = df.to_numpy()\n",
    "df_np.shape"
   ]
  },
  {
   "cell_type": "code",
   "execution_count": 78,
   "id": "c14d92e0",
   "metadata": {},
   "outputs": [
    {
     "data": {
      "text/plain": [
       "((292608, 4), (292608,))"
      ]
     },
     "execution_count": 78,
     "metadata": {},
     "output_type": "execute_result"
    }
   ],
   "source": [
    "X_train, y_train = df_np[:, :4], df_np[:, -1]\n",
    "\n",
    "X_train.shape, y_train.shape"
   ]
  },
  {
   "cell_type": "code",
   "execution_count": 79,
   "id": "5807e165",
   "metadata": {},
   "outputs": [
    {
     "data": {
      "text/plain": [
       "(292608,)"
      ]
     },
     "execution_count": 79,
     "metadata": {},
     "output_type": "execute_result"
    }
   ],
   "source": [
    "sklearn_model = LinearRegression().fit(X_train, y_train)\n",
    "\n",
    "sklearn_y_predictions = sklearn_model.predict(X_train)\n",
    "sklearn_y_predictions.shape"
   ]
  },
  {
   "cell_type": "code",
   "execution_count": 80,
   "id": "8ced1515",
   "metadata": {},
   "outputs": [
    {
     "data": {
      "text/plain": [
       "(26.86769076820463, 1342.71136583029, 0.9198054126075773)"
      ]
     },
     "execution_count": 80,
     "metadata": {},
     "output_type": "execute_result"
    }
   ],
   "source": [
    "from sklearn.metrics import mean_absolute_error, mean_squared_error, r2_score\n",
    "\n",
    "mean_absolute_error(sklearn_y_predictions, y_train), mean_squared_error(sklearn_y_predictions, y_train), r2_score(sklearn_y_predictions, y_train)"
   ]
  },
  {
   "cell_type": "code",
   "execution_count": 81,
   "id": "24354bfd",
   "metadata": {},
   "outputs": [
    {
     "data": {
      "text/html": [
       "<style>#sk-container-id-4 {color: black;}#sk-container-id-4 pre{padding: 0;}#sk-container-id-4 div.sk-toggleable {background-color: white;}#sk-container-id-4 label.sk-toggleable__label {cursor: pointer;display: block;width: 100%;margin-bottom: 0;padding: 0.3em;box-sizing: border-box;text-align: center;}#sk-container-id-4 label.sk-toggleable__label-arrow:before {content: \"▸\";float: left;margin-right: 0.25em;color: #696969;}#sk-container-id-4 label.sk-toggleable__label-arrow:hover:before {color: black;}#sk-container-id-4 div.sk-estimator:hover label.sk-toggleable__label-arrow:before {color: black;}#sk-container-id-4 div.sk-toggleable__content {max-height: 0;max-width: 0;overflow: hidden;text-align: left;background-color: #f0f8ff;}#sk-container-id-4 div.sk-toggleable__content pre {margin: 0.2em;color: black;border-radius: 0.25em;background-color: #f0f8ff;}#sk-container-id-4 input.sk-toggleable__control:checked~div.sk-toggleable__content {max-height: 200px;max-width: 100%;overflow: auto;}#sk-container-id-4 input.sk-toggleable__control:checked~label.sk-toggleable__label-arrow:before {content: \"▾\";}#sk-container-id-4 div.sk-estimator input.sk-toggleable__control:checked~label.sk-toggleable__label {background-color: #d4ebff;}#sk-container-id-4 div.sk-label input.sk-toggleable__control:checked~label.sk-toggleable__label {background-color: #d4ebff;}#sk-container-id-4 input.sk-hidden--visually {border: 0;clip: rect(1px 1px 1px 1px);clip: rect(1px, 1px, 1px, 1px);height: 1px;margin: -1px;overflow: hidden;padding: 0;position: absolute;width: 1px;}#sk-container-id-4 div.sk-estimator {font-family: monospace;background-color: #f0f8ff;border: 1px dotted black;border-radius: 0.25em;box-sizing: border-box;margin-bottom: 0.5em;}#sk-container-id-4 div.sk-estimator:hover {background-color: #d4ebff;}#sk-container-id-4 div.sk-parallel-item::after {content: \"\";width: 100%;border-bottom: 1px solid gray;flex-grow: 1;}#sk-container-id-4 div.sk-label:hover label.sk-toggleable__label {background-color: #d4ebff;}#sk-container-id-4 div.sk-serial::before {content: \"\";position: absolute;border-left: 1px solid gray;box-sizing: border-box;top: 0;bottom: 0;left: 50%;z-index: 0;}#sk-container-id-4 div.sk-serial {display: flex;flex-direction: column;align-items: center;background-color: white;padding-right: 0.2em;padding-left: 0.2em;position: relative;}#sk-container-id-4 div.sk-item {position: relative;z-index: 1;}#sk-container-id-4 div.sk-parallel {display: flex;align-items: stretch;justify-content: center;background-color: white;position: relative;}#sk-container-id-4 div.sk-item::before, #sk-container-id-4 div.sk-parallel-item::before {content: \"\";position: absolute;border-left: 1px solid gray;box-sizing: border-box;top: 0;bottom: 0;left: 50%;z-index: -1;}#sk-container-id-4 div.sk-parallel-item {display: flex;flex-direction: column;z-index: 1;position: relative;background-color: white;}#sk-container-id-4 div.sk-parallel-item:first-child::after {align-self: flex-end;width: 50%;}#sk-container-id-4 div.sk-parallel-item:last-child::after {align-self: flex-start;width: 50%;}#sk-container-id-4 div.sk-parallel-item:only-child::after {width: 0;}#sk-container-id-4 div.sk-dashed-wrapped {border: 1px dashed gray;margin: 0 0.4em 0.5em 0.4em;box-sizing: border-box;padding-bottom: 0.4em;background-color: white;}#sk-container-id-4 div.sk-label label {font-family: monospace;font-weight: bold;display: inline-block;line-height: 1.2em;}#sk-container-id-4 div.sk-label-container {text-align: center;}#sk-container-id-4 div.sk-container {/* jupyter's `normalize.less` sets `[hidden] { display: none; }` but bootstrap.min.css set `[hidden] { display: none !important; }` so we also need the `!important` here to be able to override the default hidden behavior on the sphinx rendered scikit-learn.org. See: https://github.com/scikit-learn/scikit-learn/issues/21755 */display: inline-block !important;position: relative;}#sk-container-id-4 div.sk-text-repr-fallback {display: none;}</style><div id=\"sk-container-id-4\" class=\"sk-top-container\"><div class=\"sk-text-repr-fallback\"><pre>LinearRegression()</pre><b>In a Jupyter environment, please rerun this cell to show the HTML representation or trust the notebook. <br />On GitHub, the HTML representation is unable to render, please try loading this page with nbviewer.org.</b></div><div class=\"sk-container\" hidden><div class=\"sk-item\"><div class=\"sk-estimator sk-toggleable\"><input class=\"sk-toggleable__control sk-hidden--visually\" id=\"sk-estimator-id-4\" type=\"checkbox\" checked><label for=\"sk-estimator-id-4\" class=\"sk-toggleable__label sk-toggleable__label-arrow\">LinearRegression</label><div class=\"sk-toggleable__content\"><pre>LinearRegression()</pre></div></div></div></div></div>"
      ],
      "text/plain": [
       "LinearRegression()"
      ]
     },
     "execution_count": 81,
     "metadata": {},
     "output_type": "execute_result"
    }
   ],
   "source": [
    "lr = LinearRegression()\n",
    "\n",
    "lr.fit(X_train, y_train)"
   ]
  },
  {
   "cell_type": "code",
   "execution_count": 84,
   "id": "ba137931",
   "metadata": {},
   "outputs": [
    {
     "name": "stdout",
     "output_type": "stream",
     "text": [
      "28.820650047007263\n",
      "[ 1.02567135 -6.44240609  6.36669878 -0.01377022]\n",
      "            Feature  Coefficient\n",
      "0            litros     1.025671\n",
      "1        km_rodados    -6.442406\n",
      "2     porte_veiculo     6.366699\n",
      "3  tipo_combustivel    -0.013770\n"
     ]
    }
   ],
   "source": [
    "intercept = lr.intercept_\n",
    "coefficients = lr.coef_\n",
    "\n",
    "print(intercept)\n",
    "print(coefficients)\n",
    "\n",
    "coeff_df = pd.DataFrame({\n",
    "    'Feature': X.columns,\n",
    "    'Coefficient': coefficients\n",
    "})\n",
    "\n",
    "print(coeff_df)"
   ]
  },
  {
   "cell_type": "markdown",
   "id": "2012bc12",
   "metadata": {},
   "source": [
    "# Predictions"
   ]
  },
  {
   "cell_type": "code",
   "execution_count": 46,
   "id": "39d295d6",
   "metadata": {},
   "outputs": [
    {
     "data": {
      "text/html": [
       "<div>\n",
       "<style scoped>\n",
       "    .dataframe tbody tr th:only-of-type {\n",
       "        vertical-align: middle;\n",
       "    }\n",
       "\n",
       "    .dataframe tbody tr th {\n",
       "        vertical-align: top;\n",
       "    }\n",
       "\n",
       "    .dataframe thead th {\n",
       "        text-align: right;\n",
       "    }\n",
       "</style>\n",
       "<table border=\"1\" class=\"dataframe\">\n",
       "  <thead>\n",
       "    <tr style=\"text-align: right;\">\n",
       "      <th></th>\n",
       "      <th>litros</th>\n",
       "      <th>km_rodados</th>\n",
       "      <th>vl_emissao</th>\n",
       "      <th>porte_veiculo</th>\n",
       "      <th>tipo_combustivel</th>\n",
       "      <th>sklearn vl_emissao predictions</th>\n",
       "    </tr>\n",
       "  </thead>\n",
       "  <tbody>\n",
       "    <tr>\n",
       "      <th>0</th>\n",
       "      <td>15.55</td>\n",
       "      <td>150</td>\n",
       "      <td>117.68</td>\n",
       "      <td>2</td>\n",
       "      <td>5</td>\n",
       "      <td>95.596595</td>\n",
       "    </tr>\n",
       "    <tr>\n",
       "      <th>1</th>\n",
       "      <td>50.37</td>\n",
       "      <td>500</td>\n",
       "      <td>381.26</td>\n",
       "      <td>2</td>\n",
       "      <td>5</td>\n",
       "      <td>312.465468</td>\n",
       "    </tr>\n",
       "    <tr>\n",
       "      <th>2</th>\n",
       "      <td>10.08</td>\n",
       "      <td>300</td>\n",
       "      <td>76.30</td>\n",
       "      <td>2</td>\n",
       "      <td>5</td>\n",
       "      <td>58.705219</td>\n",
       "    </tr>\n",
       "    <tr>\n",
       "      <th>3</th>\n",
       "      <td>10.07</td>\n",
       "      <td>300</td>\n",
       "      <td>76.25</td>\n",
       "      <td>2</td>\n",
       "      <td>5</td>\n",
       "      <td>58.641552</td>\n",
       "    </tr>\n",
       "    <tr>\n",
       "      <th>4</th>\n",
       "      <td>70.00</td>\n",
       "      <td>500</td>\n",
       "      <td>400.00</td>\n",
       "      <td>3</td>\n",
       "      <td>2</td>\n",
       "      <td>457.796654</td>\n",
       "    </tr>\n",
       "    <tr>\n",
       "      <th>...</th>\n",
       "      <td>...</td>\n",
       "      <td>...</td>\n",
       "      <td>...</td>\n",
       "      <td>...</td>\n",
       "      <td>...</td>\n",
       "      <td>...</td>\n",
       "    </tr>\n",
       "    <tr>\n",
       "      <th>292603</th>\n",
       "      <td>60.00</td>\n",
       "      <td>480</td>\n",
       "      <td>380.40</td>\n",
       "      <td>2</td>\n",
       "      <td>5</td>\n",
       "      <td>374.052181</td>\n",
       "    </tr>\n",
       "    <tr>\n",
       "      <th>292604</th>\n",
       "      <td>60.00</td>\n",
       "      <td>270</td>\n",
       "      <td>371.40</td>\n",
       "      <td>3</td>\n",
       "      <td>2</td>\n",
       "      <td>397.296818</td>\n",
       "    </tr>\n",
       "    <tr>\n",
       "      <th>292605</th>\n",
       "      <td>45.00</td>\n",
       "      <td>234</td>\n",
       "      <td>272.25</td>\n",
       "      <td>3</td>\n",
       "      <td>2</td>\n",
       "      <td>302.292064</td>\n",
       "    </tr>\n",
       "    <tr>\n",
       "      <th>292606</th>\n",
       "      <td>49.27</td>\n",
       "      <td>384</td>\n",
       "      <td>300.05</td>\n",
       "      <td>2</td>\n",
       "      <td>5</td>\n",
       "      <td>307.059445</td>\n",
       "    </tr>\n",
       "    <tr>\n",
       "      <th>292607</th>\n",
       "      <td>34.62</td>\n",
       "      <td>290</td>\n",
       "      <td>207.35</td>\n",
       "      <td>2</td>\n",
       "      <td>5</td>\n",
       "      <td>215.081709</td>\n",
       "    </tr>\n",
       "  </tbody>\n",
       "</table>\n",
       "<p>292608 rows × 6 columns</p>\n",
       "</div>"
      ],
      "text/plain": [
       "        litros  km_rodados  vl_emissao  porte_veiculo  tipo_combustivel  \\\n",
       "0        15.55         150      117.68              2                 5   \n",
       "1        50.37         500      381.26              2                 5   \n",
       "2        10.08         300       76.30              2                 5   \n",
       "3        10.07         300       76.25              2                 5   \n",
       "4        70.00         500      400.00              3                 2   \n",
       "...        ...         ...         ...            ...               ...   \n",
       "292603   60.00         480      380.40              2                 5   \n",
       "292604   60.00         270      371.40              3                 2   \n",
       "292605   45.00         234      272.25              3                 2   \n",
       "292606   49.27         384      300.05              2                 5   \n",
       "292607   34.62         290      207.35              2                 5   \n",
       "\n",
       "        sklearn vl_emissao predictions  \n",
       "0                            95.596595  \n",
       "1                           312.465468  \n",
       "2                            58.705219  \n",
       "3                            58.641552  \n",
       "4                           457.796654  \n",
       "...                                ...  \n",
       "292603                      374.052181  \n",
       "292604                      397.296818  \n",
       "292605                      302.292064  \n",
       "292606                      307.059445  \n",
       "292607                      215.081709  \n",
       "\n",
       "[292608 rows x 6 columns]"
      ]
     },
     "execution_count": 46,
     "metadata": {},
     "output_type": "execute_result"
    }
   ],
   "source": [
    "predictions_df = pd.DataFrame({'litros': df['litros'],\n",
    "                               'km_rodados': df['km_rodados'],\n",
    "                               'vl_emissao': df['vl_emissao'],\n",
    "                               'porte_veiculo': df['porte_veiculo'],\n",
    "                               'tipo_combustivel': df['tipo_combustivel'],\n",
    "                               'sklearn vl_emissao predictions' : sklearn_y_predictions})\n",
    "\n",
    "predictions_df"
   ]
  },
  {
   "cell_type": "markdown",
   "id": "02a15cd1",
   "metadata": {},
   "source": [
    "# Modeling Alternative"
   ]
  },
  {
   "cell_type": "code",
   "execution_count": 65,
   "id": "69b27ca4",
   "metadata": {},
   "outputs": [],
   "source": [
    "X = df[['litros', 'km_rodados', 'porte_veiculo', 'tipo_combustivel']]\n",
    "y = df['vl_emissao']\n",
    "\n",
    "X_train, X_test, y_train, y_test = train_test_split(X, y, test_size=0.3, random_state=21)"
   ]
  },
  {
   "cell_type": "code",
   "execution_count": 66,
   "id": "e9812a94",
   "metadata": {},
   "outputs": [
    {
     "data": {
      "text/html": [
       "<style>#sk-container-id-3 {color: black;}#sk-container-id-3 pre{padding: 0;}#sk-container-id-3 div.sk-toggleable {background-color: white;}#sk-container-id-3 label.sk-toggleable__label {cursor: pointer;display: block;width: 100%;margin-bottom: 0;padding: 0.3em;box-sizing: border-box;text-align: center;}#sk-container-id-3 label.sk-toggleable__label-arrow:before {content: \"▸\";float: left;margin-right: 0.25em;color: #696969;}#sk-container-id-3 label.sk-toggleable__label-arrow:hover:before {color: black;}#sk-container-id-3 div.sk-estimator:hover label.sk-toggleable__label-arrow:before {color: black;}#sk-container-id-3 div.sk-toggleable__content {max-height: 0;max-width: 0;overflow: hidden;text-align: left;background-color: #f0f8ff;}#sk-container-id-3 div.sk-toggleable__content pre {margin: 0.2em;color: black;border-radius: 0.25em;background-color: #f0f8ff;}#sk-container-id-3 input.sk-toggleable__control:checked~div.sk-toggleable__content {max-height: 200px;max-width: 100%;overflow: auto;}#sk-container-id-3 input.sk-toggleable__control:checked~label.sk-toggleable__label-arrow:before {content: \"▾\";}#sk-container-id-3 div.sk-estimator input.sk-toggleable__control:checked~label.sk-toggleable__label {background-color: #d4ebff;}#sk-container-id-3 div.sk-label input.sk-toggleable__control:checked~label.sk-toggleable__label {background-color: #d4ebff;}#sk-container-id-3 input.sk-hidden--visually {border: 0;clip: rect(1px 1px 1px 1px);clip: rect(1px, 1px, 1px, 1px);height: 1px;margin: -1px;overflow: hidden;padding: 0;position: absolute;width: 1px;}#sk-container-id-3 div.sk-estimator {font-family: monospace;background-color: #f0f8ff;border: 1px dotted black;border-radius: 0.25em;box-sizing: border-box;margin-bottom: 0.5em;}#sk-container-id-3 div.sk-estimator:hover {background-color: #d4ebff;}#sk-container-id-3 div.sk-parallel-item::after {content: \"\";width: 100%;border-bottom: 1px solid gray;flex-grow: 1;}#sk-container-id-3 div.sk-label:hover label.sk-toggleable__label {background-color: #d4ebff;}#sk-container-id-3 div.sk-serial::before {content: \"\";position: absolute;border-left: 1px solid gray;box-sizing: border-box;top: 0;bottom: 0;left: 50%;z-index: 0;}#sk-container-id-3 div.sk-serial {display: flex;flex-direction: column;align-items: center;background-color: white;padding-right: 0.2em;padding-left: 0.2em;position: relative;}#sk-container-id-3 div.sk-item {position: relative;z-index: 1;}#sk-container-id-3 div.sk-parallel {display: flex;align-items: stretch;justify-content: center;background-color: white;position: relative;}#sk-container-id-3 div.sk-item::before, #sk-container-id-3 div.sk-parallel-item::before {content: \"\";position: absolute;border-left: 1px solid gray;box-sizing: border-box;top: 0;bottom: 0;left: 50%;z-index: -1;}#sk-container-id-3 div.sk-parallel-item {display: flex;flex-direction: column;z-index: 1;position: relative;background-color: white;}#sk-container-id-3 div.sk-parallel-item:first-child::after {align-self: flex-end;width: 50%;}#sk-container-id-3 div.sk-parallel-item:last-child::after {align-self: flex-start;width: 50%;}#sk-container-id-3 div.sk-parallel-item:only-child::after {width: 0;}#sk-container-id-3 div.sk-dashed-wrapped {border: 1px dashed gray;margin: 0 0.4em 0.5em 0.4em;box-sizing: border-box;padding-bottom: 0.4em;background-color: white;}#sk-container-id-3 div.sk-label label {font-family: monospace;font-weight: bold;display: inline-block;line-height: 1.2em;}#sk-container-id-3 div.sk-label-container {text-align: center;}#sk-container-id-3 div.sk-container {/* jupyter's `normalize.less` sets `[hidden] { display: none; }` but bootstrap.min.css set `[hidden] { display: none !important; }` so we also need the `!important` here to be able to override the default hidden behavior on the sphinx rendered scikit-learn.org. See: https://github.com/scikit-learn/scikit-learn/issues/21755 */display: inline-block !important;position: relative;}#sk-container-id-3 div.sk-text-repr-fallback {display: none;}</style><div id=\"sk-container-id-3\" class=\"sk-top-container\"><div class=\"sk-text-repr-fallback\"><pre>LinearRegression()</pre><b>In a Jupyter environment, please rerun this cell to show the HTML representation or trust the notebook. <br />On GitHub, the HTML representation is unable to render, please try loading this page with nbviewer.org.</b></div><div class=\"sk-container\" hidden><div class=\"sk-item\"><div class=\"sk-estimator sk-toggleable\"><input class=\"sk-toggleable__control sk-hidden--visually\" id=\"sk-estimator-id-3\" type=\"checkbox\" checked><label for=\"sk-estimator-id-3\" class=\"sk-toggleable__label sk-toggleable__label-arrow\">LinearRegression</label><div class=\"sk-toggleable__content\"><pre>LinearRegression()</pre></div></div></div></div></div>"
      ],
      "text/plain": [
       "LinearRegression()"
      ]
     },
     "execution_count": 66,
     "metadata": {},
     "output_type": "execute_result"
    }
   ],
   "source": [
    "lr = LinearRegression()\n",
    "\n",
    "lr.fit(X_train, y_train)"
   ]
  },
  {
   "cell_type": "code",
   "execution_count": 67,
   "id": "7607d133",
   "metadata": {},
   "outputs": [
    {
     "data": {
      "text/plain": [
       "0.9270641763257506"
      ]
     },
     "execution_count": 67,
     "metadata": {},
     "output_type": "execute_result"
    }
   ],
   "source": [
    "lr.score(X_test, y_test)"
   ]
  },
  {
   "cell_type": "code",
   "execution_count": 68,
   "id": "9e591fba",
   "metadata": {},
   "outputs": [
    {
     "name": "stdout",
     "output_type": "stream",
     "text": [
      "29.105789806367824\n",
      "[ 6.35733006 -0.01295796  1.0005382  -6.4660253 ]\n"
     ]
    }
   ],
   "source": [
    "intercept = lr.intercept_\n",
    "coefficients = lr.coef_\n",
    "\n",
    "print(intercept)\n",
    "print(coefficients)"
   ]
  },
  {
   "cell_type": "code",
   "execution_count": 50,
   "id": "883ddc64",
   "metadata": {},
   "outputs": [],
   "source": [
    "from sklearn.metrics import mean_absolute_error, mean_squared_error, r2_score\n",
    "\n",
    "y_pred = lr.predict(X_test)"
   ]
  },
  {
   "cell_type": "code",
   "execution_count": 51,
   "id": "ffbfa193",
   "metadata": {},
   "outputs": [
    {
     "data": {
      "text/plain": [
       "26.748860070384513"
      ]
     },
     "execution_count": 51,
     "metadata": {},
     "output_type": "execute_result"
    }
   ],
   "source": [
    "mean_absolute_error(y_test, y_pred)"
   ]
  },
  {
   "cell_type": "code",
   "execution_count": 52,
   "id": "13dc068f",
   "metadata": {},
   "outputs": [
    {
     "data": {
      "text/plain": [
       "1331.564671510652"
      ]
     },
     "execution_count": 52,
     "metadata": {},
     "output_type": "execute_result"
    }
   ],
   "source": [
    "mean_squared_error(y_test, y_pred)"
   ]
  },
  {
   "cell_type": "code",
   "execution_count": 53,
   "id": "b67a1410",
   "metadata": {},
   "outputs": [
    {
     "data": {
      "text/plain": [
       "0.9270641763257506"
      ]
     },
     "execution_count": 53,
     "metadata": {},
     "output_type": "execute_result"
    }
   ],
   "source": [
    "r2_score(y_test, y_pred)"
   ]
  },
  {
   "cell_type": "code",
   "execution_count": 62,
   "id": "3ac43abf",
   "metadata": {},
   "outputs": [
    {
     "data": {
      "text/html": [
       "<div>\n",
       "<style scoped>\n",
       "    .dataframe tbody tr th:only-of-type {\n",
       "        vertical-align: middle;\n",
       "    }\n",
       "\n",
       "    .dataframe tbody tr th {\n",
       "        vertical-align: top;\n",
       "    }\n",
       "\n",
       "    .dataframe thead th {\n",
       "        text-align: right;\n",
       "    }\n",
       "</style>\n",
       "<table border=\"1\" class=\"dataframe\">\n",
       "  <thead>\n",
       "    <tr style=\"text-align: right;\">\n",
       "      <th></th>\n",
       "      <th>litros</th>\n",
       "      <th>km_rodados</th>\n",
       "      <th>porte_veiculo</th>\n",
       "      <th>tipo_combustivel</th>\n",
       "      <th>vl_emissao</th>\n",
       "      <th>sklearn vl_emissao pred</th>\n",
       "    </tr>\n",
       "  </thead>\n",
       "  <tbody>\n",
       "    <tr>\n",
       "      <th>0</th>\n",
       "      <td>15.55</td>\n",
       "      <td>150</td>\n",
       "      <td>2</td>\n",
       "      <td>5</td>\n",
       "      <td>117.68</td>\n",
       "      <td>95.689529</td>\n",
       "    </tr>\n",
       "    <tr>\n",
       "      <th>1</th>\n",
       "      <td>50.37</td>\n",
       "      <td>500</td>\n",
       "      <td>2</td>\n",
       "      <td>5</td>\n",
       "      <td>381.26</td>\n",
       "      <td>312.516477</td>\n",
       "    </tr>\n",
       "    <tr>\n",
       "      <th>2</th>\n",
       "      <td>10.08</td>\n",
       "      <td>300</td>\n",
       "      <td>2</td>\n",
       "      <td>5</td>\n",
       "      <td>76.30</td>\n",
       "      <td>58.971240</td>\n",
       "    </tr>\n",
       "    <tr>\n",
       "      <th>3</th>\n",
       "      <td>10.07</td>\n",
       "      <td>300</td>\n",
       "      <td>2</td>\n",
       "      <td>5</td>\n",
       "      <td>76.25</td>\n",
       "      <td>58.907667</td>\n",
       "    </tr>\n",
       "    <tr>\n",
       "      <th>4</th>\n",
       "      <td>70.00</td>\n",
       "      <td>500</td>\n",
       "      <td>3</td>\n",
       "      <td>2</td>\n",
       "      <td>400.00</td>\n",
       "      <td>457.709480</td>\n",
       "    </tr>\n",
       "    <tr>\n",
       "      <th>...</th>\n",
       "      <td>...</td>\n",
       "      <td>...</td>\n",
       "      <td>...</td>\n",
       "      <td>...</td>\n",
       "      <td>...</td>\n",
       "      <td>...</td>\n",
       "    </tr>\n",
       "    <tr>\n",
       "      <th>292603</th>\n",
       "      <td>60.00</td>\n",
       "      <td>480</td>\n",
       "      <td>2</td>\n",
       "      <td>5</td>\n",
       "      <td>380.40</td>\n",
       "      <td>373.996725</td>\n",
       "    </tr>\n",
       "    <tr>\n",
       "      <th>292604</th>\n",
       "      <td>60.00</td>\n",
       "      <td>270</td>\n",
       "      <td>3</td>\n",
       "      <td>2</td>\n",
       "      <td>371.40</td>\n",
       "      <td>397.116509</td>\n",
       "    </tr>\n",
       "    <tr>\n",
       "      <th>292605</th>\n",
       "      <td>45.00</td>\n",
       "      <td>234</td>\n",
       "      <td>3</td>\n",
       "      <td>2</td>\n",
       "      <td>272.25</td>\n",
       "      <td>302.223045</td>\n",
       "    </tr>\n",
       "    <tr>\n",
       "      <th>292606</th>\n",
       "      <td>49.27</td>\n",
       "      <td>384</td>\n",
       "      <td>2</td>\n",
       "      <td>5</td>\n",
       "      <td>300.05</td>\n",
       "      <td>307.026537</td>\n",
       "    </tr>\n",
       "    <tr>\n",
       "      <th>292607</th>\n",
       "      <td>34.62</td>\n",
       "      <td>290</td>\n",
       "      <td>2</td>\n",
       "      <td>5</td>\n",
       "      <td>207.35</td>\n",
       "      <td>215.109699</td>\n",
       "    </tr>\n",
       "  </tbody>\n",
       "</table>\n",
       "<p>292608 rows × 6 columns</p>\n",
       "</div>"
      ],
      "text/plain": [
       "        litros  km_rodados  porte_veiculo  tipo_combustivel  vl_emissao  \\\n",
       "0        15.55         150              2                 5      117.68   \n",
       "1        50.37         500              2                 5      381.26   \n",
       "2        10.08         300              2                 5       76.30   \n",
       "3        10.07         300              2                 5       76.25   \n",
       "4        70.00         500              3                 2      400.00   \n",
       "...        ...         ...            ...               ...         ...   \n",
       "292603   60.00         480              2                 5      380.40   \n",
       "292604   60.00         270              3                 2      371.40   \n",
       "292605   45.00         234              3                 2      272.25   \n",
       "292606   49.27         384              2                 5      300.05   \n",
       "292607   34.62         290              2                 5      207.35   \n",
       "\n",
       "        sklearn vl_emissao pred  \n",
       "0                     95.689529  \n",
       "1                    312.516477  \n",
       "2                     58.971240  \n",
       "3                     58.907667  \n",
       "4                    457.709480  \n",
       "...                         ...  \n",
       "292603               373.996725  \n",
       "292604               397.116509  \n",
       "292605               302.223045  \n",
       "292606               307.026537  \n",
       "292607               215.109699  \n",
       "\n",
       "[292608 rows x 6 columns]"
      ]
     },
     "execution_count": 62,
     "metadata": {},
     "output_type": "execute_result"
    }
   ],
   "source": [
    "y_pred_full = lr.predict(X)\n",
    "\n",
    "predictions_df_2 = pd.DataFrame({'litros': df['litros'],\n",
    "                               'km_rodados': df['km_rodados'],\n",
    "                               'porte_veiculo': df['porte_veiculo'],\n",
    "                               'tipo_combustivel': df['tipo_combustivel'],\n",
    "                               'vl_emissao': df['vl_emissao'],\n",
    "                               'sklearn vl_emissao pred' : y_pred_full})\n",
    "\n",
    "predictions_df_2"
   ]
  },
  {
   "cell_type": "code",
   "execution_count": 63,
   "id": "b11a5ab5",
   "metadata": {
    "scrolled": false
   },
   "outputs": [
    {
     "name": "stdout",
     "output_type": "stream",
     "text": [
      "29.105789806367824\n",
      "[ 6.35733006 -0.01295796  1.0005382  -6.4660253 ]\n"
     ]
    }
   ],
   "source": [
    "intercept = lr.intercept_\n",
    "coefficients = lr.coef_\n",
    "\n",
    "print(intercept)\n",
    "print(coefficients)"
   ]
  },
  {
   "cell_type": "code",
   "execution_count": 1,
   "id": "7d57dbf6",
   "metadata": {},
   "outputs": [
    {
     "ename": "NameError",
     "evalue": "name 'intercept' is not defined",
     "output_type": "error",
     "traceback": [
      "\u001b[1;31m---------------------------------------------------------------------------\u001b[0m",
      "\u001b[1;31mNameError\u001b[0m                                 Traceback (most recent call last)",
      "\u001b[1;32m<ipython-input-1-b6bfc18bb2f2>\u001b[0m in \u001b[0;36m<module>\u001b[1;34m\u001b[0m\n\u001b[1;32m----> 1\u001b[1;33m \u001b[0mprint\u001b[0m\u001b[1;33m(\u001b[0m\u001b[1;34mf\"Intercepto (β0): {intercept}\"\u001b[0m\u001b[1;33m)\u001b[0m\u001b[1;33m\u001b[0m\u001b[0m\n\u001b[0m\u001b[0;32m      2\u001b[0m \u001b[0mprint\u001b[0m\u001b[1;33m(\u001b[0m\u001b[1;34mf\"Coeficiente para litros (β1): {coefficients[0]}\"\u001b[0m\u001b[1;33m)\u001b[0m\u001b[1;33m\u001b[0m\u001b[0m\n\u001b[0;32m      3\u001b[0m \u001b[0mprint\u001b[0m\u001b[1;33m(\u001b[0m\u001b[1;34mf\"Coeficiente para km_rodados (β2): {coefficients[1]}\"\u001b[0m\u001b[1;33m)\u001b[0m\u001b[1;33m\u001b[0m\u001b[0m\n\u001b[0;32m      4\u001b[0m \u001b[0mprint\u001b[0m\u001b[1;33m(\u001b[0m\u001b[1;34mf\"Coeficiente para porte_veiculo (β3): {coefficients[2]}\"\u001b[0m\u001b[1;33m)\u001b[0m\u001b[1;33m\u001b[0m\u001b[0m\n\u001b[0;32m      5\u001b[0m \u001b[0mprint\u001b[0m\u001b[1;33m(\u001b[0m\u001b[1;34mf\"Coeficiente para tipo_combustivel (β4): {coefficients[3]}\"\u001b[0m\u001b[1;33m)\u001b[0m\u001b[1;33m\u001b[0m\u001b[0m\n",
      "\u001b[1;31mNameError\u001b[0m: name 'intercept' is not defined"
     ]
    }
   ],
   "source": [
    "print(f\"Intercepto (β0): {intercept}\")\n",
    "print(f\"Coeficiente para litros (β1): {coefficients[0]}\")\n",
    "print(f\"Coeficiente para km_rodados (β2): {coefficients[1]}\")\n",
    "print(f\"Coeficiente para porte_veiculo (β3): {coefficients[2]}\")\n",
    "print(f\"Coeficiente para tipo_combustivel (β4): {coefficients[3]}\")\n",
    "print(f\"Coeficiente para ano (β5): {coefficients[4]}\")"
   ]
  },
  {
   "cell_type": "code",
   "execution_count": null,
   "id": "ca9bb286",
   "metadata": {},
   "outputs": [],
   "source": []
  }
 ],
 "metadata": {
  "kernelspec": {
   "display_name": "Python 3",
   "language": "python",
   "name": "python3"
  },
  "language_info": {
   "codemirror_mode": {
    "name": "ipython",
    "version": 3
   },
   "file_extension": ".py",
   "mimetype": "text/x-python",
   "name": "python",
   "nbconvert_exporter": "python",
   "pygments_lexer": "ipython3",
   "version": "3.6.6"
  }
 },
 "nbformat": 4,
 "nbformat_minor": 5
}
